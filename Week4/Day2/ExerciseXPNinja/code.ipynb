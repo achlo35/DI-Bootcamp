{
 "cells": [
  {
   "cell_type": "code",
   "execution_count": 5,
   "id": "9096894e",
   "metadata": {},
   "outputs": [
    {
     "name": "stdout",
     "output_type": "stream",
     "text": [
      "******************\n",
      "* Hello          *\n",
      "* World          *\n",
      "* in             *\n",
      "* reallylongword *\n",
      "* a              *\n",
      "* frame          *\n",
      "******************\n"
     ]
    }
   ],
   "source": [
    "# Exercise 1 : Box of stars\n",
    "\n",
    "def box_printer(*args):\n",
    "    max_len = max(len(word) for word in args)\n",
    "    border = '*' * (max_len + 4)\n",
    "    print(border)\n",
    "    for word in args:\n",
    "        spaces = ' ' * (max_len - len(word))\n",
    "        print(f\"* {word}{spaces} *\")\n",
    "    print(border)\n",
    "\n",
    "box_printer(\"Hello\", \"World\", \"in\", \"reallylongword\", \"a\", \"frame\")"
   ]
  },
  {
   "cell_type": "code",
   "execution_count": 7,
   "id": "e6cd7d34",
   "metadata": {},
   "outputs": [
    {
     "name": "stdout",
     "output_type": "stream",
     "text": [
      "[17, 20, 26, 31, 44, 54, 55, 77, 93]\n"
     ]
    }
   ],
   "source": [
    "# Eercise 2\n",
    "\n",
    "# Analyse this code before executing it. What is the purpose of this code?\n",
    "# Sort a list in ascending order using the insertion sort algorithm.\n",
    "def insertion_sort(alist):\n",
    "   for index in range(1,len(alist)):\n",
    "\n",
    "     currentvalue = alist[index]\n",
    "     position = index\n",
    "\n",
    "     while position>0 and alist[position-1]>currentvalue:\n",
    "         alist[position]=alist[position-1]\n",
    "         position = position-1\n",
    "\n",
    "     alist[position]=currentvalue\n",
    "\n",
    "alist = [54,26,93,17,77,31,44,55,20]\n",
    "insertion_sort(alist)\n",
    "print(alist)"
   ]
  }
 ],
 "metadata": {
  "kernelspec": {
   "display_name": "Python 3",
   "language": "python",
   "name": "python3"
  },
  "language_info": {
   "codemirror_mode": {
    "name": "ipython",
    "version": 3
   },
   "file_extension": ".py",
   "mimetype": "text/x-python",
   "name": "python",
   "nbconvert_exporter": "python",
   "pygments_lexer": "ipython3",
   "version": "3.13.3"
  }
 },
 "nbformat": 4,
 "nbformat_minor": 5
}

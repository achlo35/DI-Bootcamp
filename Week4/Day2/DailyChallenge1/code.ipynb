{
 "cells": [
  {
   "cell_type": "code",
   "execution_count": 6,
   "id": "f6bcaeee",
   "metadata": {},
   "outputs": [
    {
     "name": "stdout",
     "output_type": "stream",
     "text": [
      "This is Matix\n"
     ]
    }
   ],
   "source": [
    "MATRIX_STR = '''\n",
    "7ii\n",
    "Tsx\n",
    "h%?\n",
    "i #\n",
    "sM \n",
    "$a \n",
    "#t%'''  \n",
    "\n",
    "rows = MATRIX_STR.strip().split('\\n')\n",
    "for row in rows:\n",
    "    matrix = list(rows)\n",
    "\n",
    "num_cols = len(matrix[0])\n",
    "num_rows = len(matrix)\n",
    "\n",
    "decoded_chars = []\n",
    "for col in range(num_cols):\n",
    "    for row in range(num_rows):\n",
    "        decoded_chars.append(matrix[row][col])\n",
    "\n",
    "message = \"\"\n",
    "i = 0\n",
    "while i < len(decoded_chars):\n",
    "    if decoded_chars[i].isalpha():\n",
    "        message += decoded_chars[i]\n",
    "        i += 1\n",
    "    else:\n",
    "        j = i\n",
    "        while j < len(decoded_chars) and not decoded_chars[j].isalpha():\n",
    "            j += 1\n",
    "        if (i > 0 and j < len(decoded_chars) and \n",
    "            decoded_chars[i-1].isalpha() and decoded_chars[j].isalpha()):\n",
    "            message += \" \"\n",
    "        i = j\n",
    "\n",
    "print(message)"
   ]
  }
 ],
 "metadata": {
  "kernelspec": {
   "display_name": "Python 3",
   "language": "python",
   "name": "python3"
  },
  "language_info": {
   "codemirror_mode": {
    "name": "ipython",
    "version": 3
   },
   "file_extension": ".py",
   "mimetype": "text/x-python",
   "name": "python",
   "nbconvert_exporter": "python",
   "pygments_lexer": "ipython3",
   "version": "3.13.3"
  }
 },
 "nbformat": 4,
 "nbformat_minor": 5
}

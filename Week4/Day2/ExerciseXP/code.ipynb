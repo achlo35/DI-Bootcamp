{
 "cells": [
  {
   "cell_type": "code",
   "execution_count": 1,
   "id": "7312b8ab",
   "metadata": {},
   "outputs": [
    {
     "name": "stdout",
     "output_type": "stream",
     "text": [
      "In Python, a function is a block of organized, reusable code designed to perform a specific task. Functions help in modularizing code, making it more readable and manageable, and preventing repetition.\n"
     ]
    }
   ],
   "source": [
    "# Exercise 1 : What are you learning ?\n",
    "\n",
    "def display_message():\n",
    "    print('In Python, a function is a block of organized, reusable code designed to perform a specific task. Functions help in modularizing code, making it more readable and manageable, and preventing repetition.')\n",
    "\n",
    "display_message()"
   ]
  },
  {
   "cell_type": "code",
   "execution_count": 8,
   "id": "62d92a04",
   "metadata": {},
   "outputs": [
    {
     "name": "stdout",
     "output_type": "stream",
     "text": [
      "One of my favourite books is Lightlark\n"
     ]
    }
   ],
   "source": [
    "# Exercise 2: What’s your favorite book ?\n",
    "\n",
    "def favourite_book(title):\n",
    "    print(f'One of my favourite books is {title}')\n",
    "\n",
    "favourite_book('Lightlark')"
   ]
  },
  {
   "cell_type": "code",
   "execution_count": 10,
   "id": "48ab11f5",
   "metadata": {},
   "outputs": [
    {
     "name": "stdout",
     "output_type": "stream",
     "text": [
      "Paris is in France\n"
     ]
    }
   ],
   "source": [
    "# Exercise 3 : Some Geography\n",
    "\n",
    "def describe_city(city, country='France'):\n",
    "    print(f'{city} is in {country}')\n",
    "\n",
    "describe_city('Paris')"
   ]
  },
  {
   "cell_type": "code",
   "execution_count": 14,
   "metadata": {},
   "outputs": [
    {
     "name": "stdout",
     "output_type": "stream",
     "text": [
      "Fail! Your number: 34. Random number: 72\n"
     ]
    }
   ],
   "source": [
    "# Exercise 4 : Random\n",
    "\n",
    "import random\n",
    "\n",
    "def num(user_number):\n",
    "    random_number = random.randint(1, 100)\n",
    "    if user_number == random_number:\n",
    "        print(f'Success! Both numbers are {user_number}')\n",
    "    else:\n",
    "        print(f'Fail! Your number: {user_number}. Random number: {random_number}')\n",
    "\n",
    "num(34)\n"
   ]
  },
  {
   "cell_type": "code",
   "execution_count": 25,
   "metadata": {},
   "outputs": [
    {
     "name": "stdout",
     "output_type": "stream",
     "text": [
      "The size of the shirt is large and the text is \"I love Python\"\n",
      "The size of the shirt is medium and the text is \"I love Python\"\n",
      "The size of the shirt is small and the text is \"I dont like Python\"\n",
      "The size of the shirt is extra large and the text is \"Keep Calm and Code On\"\n"
     ]
    }
   ],
   "source": [
    "# Exercise 5 : Let’s create some personalized shirts !\n",
    "\n",
    "def make_shirt(size, text='\"I love Python\"'):\n",
    "    print(f'The size of the shirt is {size} and the text is {text}')\n",
    "\n",
    "make_shirt('large')\n",
    "make_shirt('medium')\n",
    "\n",
    "def make_shirt(size, text):\n",
    "    print(f'The size of the shirt is {size} and the text is {text}')\n",
    "\n",
    "# Make a shirt of any size with a different message\n",
    "make_shirt('small', '\"I dont like Python\"')\n",
    "\n",
    "# Bonus: Call the function using keyword arguments\n",
    "make_shirt(size='extra large', text='\"Keep Calm and Code On\"')"
   ]
  },
  {
   "cell_type": "code",
   "execution_count": 29,
   "id": "0e866438",
   "metadata": {},
   "outputs": [
    {
     "name": "stdout",
     "output_type": "stream",
     "text": [
      "Harry Houdini the Great\n",
      "David Blaine the Great\n",
      "Criss Angel the Great\n"
     ]
    }
   ],
   "source": [
    "# Exercise 6 : Magicians …\n",
    "\n",
    "magician_names = ['Harry Houdini', 'David Blaine', 'Criss Angel']\n",
    "def show_magicians(magicians):\n",
    "    for magician in magicians:\n",
    "        print(magician)\n",
    "\n",
    "def make_great(magicians):\n",
    "    for i in range(len(magicians)):\n",
    "        magicians[i] = magicians[i] + \" the Great\"\n",
    "\n",
    "make_great(magician_names)\n",
    "show_magicians(magician_names)"
   ]
  }
 ],
 "metadata": {
  "kernelspec": {
   "display_name": "Python 3",
   "language": "python",
   "name": "python3"
  },
  "language_info": {
   "codemirror_mode": {
    "name": "ipython",
    "version": 3
   },
   "file_extension": ".py",
   "mimetype": "text/x-python",
   "name": "python",
   "nbconvert_exporter": "python",
   "pygments_lexer": "ipython3",
   "version": "3.13.3"
  }
 },
 "nbformat": 4,
 "nbformat_minor": 5
}

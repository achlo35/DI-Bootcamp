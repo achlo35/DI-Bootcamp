{
 "cells": [
  {
   "cell_type": "code",
   "execution_count": 34,
   "id": "8e8af714",
   "metadata": {},
   "outputs": [
    {
     "name": "stdout",
     "output_type": "stream",
     "text": [
      "The temperature right now is 26.8 degrees celcius\n",
      "Warm and sunny—great day to be outside!\n"
     ]
    }
   ],
   "source": [
    "# Exercise 1 : Temperature Advice\n",
    "\n",
    "import random\n",
    "\n",
    "def get_random_temp(season):\n",
    "    if season == 'winter':\n",
    "        low, high = -10, 16\n",
    "    elif season == 'autumn':\n",
    "        low, high = 5, 20\n",
    "    elif season == 'spring':\n",
    "        low, high = 7, 22\n",
    "    elif season == 'summer':\n",
    "        low, high = 18, 40\n",
    "    else:\n",
    "        low, high = -10,40\n",
    "    random_temp = random.uniform(low, high)\n",
    "    return random_temp\n",
    "\n",
    "def main():\n",
    "    season = input('Enter a season(winter, autumn, spring, summer)')\n",
    "    temperature = get_random_temp(season)\n",
    "    print(f'The temperature right now is {temperature:.1f} degrees celcius')\n",
    "    if temperature < 0:\n",
    "        print('Brrr, that’s freezing! Wear some extra layers today')\n",
    "    elif 0 <= temperature <= 16:\n",
    "        print('Quite chilly! Don’t forget your coat')\n",
    "    elif 16 <= temperature <=23:\n",
    "        print('Pleasant weather! A light jacket should be enough.')\n",
    "    elif 24 <= temperature <= 32:\n",
    "        print('Warm and sunny—great day to be outside!')\n",
    "    else: \n",
    "        print(\"It's getting hot—stay hydrated and wear sunscreen!\")\n",
    "\n",
    "main()\n"
   ]
  },
  {
   "cell_type": "code",
   "execution_count": 38,
   "id": "04c5a285",
   "metadata": {},
   "outputs": [
    {
     "name": "stdout",
     "output_type": "stream",
     "text": [
      "Wrong! The correct answer is: Grogu\n",
      "Wrong! The correct answer is: Tatooine\n",
      "Wrong! The correct answer is: 1977\n",
      "Wrong! The correct answer is: Anakin Skywalker\n",
      "Wrong! The correct answer is: Darth Vader\n",
      "Wrong! The correct answer is: Wookiee\n",
      "\n",
      "You got 0 out of 6 correct.\n",
      "\n",
      "Here are the questions you got wrong:\n",
      "Q: What is Baby Yoda's real name?\n",
      "Your answer: idk\n",
      "Correct answer: Grogu\n",
      "\n",
      "Q: Where did Obi-Wan take Luke after his birth?\n",
      "Your answer: dk\n",
      "Correct answer: Tatooine\n",
      "\n",
      "Q: What year did the first Star Wars movie come out?\n",
      "Your answer: idk\n",
      "Correct answer: 1977\n",
      "\n",
      "Q: Who built C-3PO?\n",
      "Your answer: idk\n",
      "Correct answer: Anakin Skywalker\n",
      "\n",
      "Q: Anakin Skywalker grew up to be who?\n",
      "Your answer: idk\n",
      "Correct answer: Darth Vader\n",
      "\n",
      "Q: What species is Chewbacca?\n",
      "Your answer: idk\n",
      "Correct answer: Wookiee\n",
      "\n"
     ]
    }
   ],
   "source": [
    "# Exercise 2 : Star Wars Quiz\n",
    "\n",
    "data = [\n",
    "    {\n",
    "        \"question\": \"What is Baby Yoda's real name?\",\n",
    "        \"answer\": \"Grogu\"\n",
    "    },\n",
    "    {\n",
    "        \"question\": \"Where did Obi-Wan take Luke after his birth?\",\n",
    "        \"answer\": \"Tatooine\"\n",
    "    },\n",
    "    {\n",
    "        \"question\": \"What year did the first Star Wars movie come out?\",\n",
    "        \"answer\": \"1977\"\n",
    "    },\n",
    "    {\n",
    "        \"question\": \"Who built C-3PO?\",\n",
    "        \"answer\": \"Anakin Skywalker\"\n",
    "    },\n",
    "    {\n",
    "        \"question\": \"Anakin Skywalker grew up to be who?\",\n",
    "        \"answer\": \"Darth Vader\"\n",
    "    },\n",
    "    {\n",
    "        \"question\": \"What species is Chewbacca?\",\n",
    "        \"answer\": \"Wookiee\"\n",
    "    }\n",
    "]\n",
    "\n",
    "def star_wars_quiz(questions):\n",
    "    score = 0\n",
    "    wrong_answers = []\n",
    "    for q in questions:\n",
    "        user_answer = input(q[\"question\"] + \" \")\n",
    "        if user_answer.strip().lower() == q[\"answer\"].strip().lower():\n",
    "            print(\"Correct!\")\n",
    "            score += 1\n",
    "        else:\n",
    "            print(f\"Wrong! The correct answer is: {q['answer']}\")\n",
    "            wrong_answers.append({\n",
    "                \"question\": q[\"question\"],\n",
    "                \"your_answer\": user_answer,\n",
    "                \"correct_answer\": q[\"answer\"]\n",
    "            })\n",
    "    print(f\"\\nYou got {score} out of {len(questions)} correct.\")\n",
    "\n",
    "    if wrong_answers:\n",
    "        print(\"\\nHere are the questions you got wrong:\")\n",
    "        for wa in wrong_answers:\n",
    "            print(f\"Q: {wa['question']}\")\n",
    "            print(f\"Your answer: {wa['your_answer']}\")\n",
    "            print(f\"Correct answer: {wa['correct_answer']}\\n\")\n",
    "\n",
    "    if len(wrong_answers) > 3:\n",
    "        play_again = input(\"You had more than 3 wrong answers. Do you want to play again? (yes/no): \")\n",
    "        if play_again.strip().lower() == \"yes\":\n",
    "            star_wars_quiz(questions)\n",
    "\n",
    "# Example usage:\n",
    "star_wars_quiz(data)"
   ]
  },
  {
   "cell_type": "code",
   "execution_count": 2,
   "id": "3b5461ba",
   "metadata": {},
   "outputs": [
    {
     "name": "stdout",
     "output_type": "stream",
     "text": [
      "You cannot retire\n"
     ]
    }
   ],
   "source": [
    "# Exercise 3 : When will I retire ?\n",
    "\n",
    "def get_age(year, month, day):\n",
    "    current_year = 2025\n",
    "    current_month = 6\n",
    "    age = current_year - year\n",
    "    if month > current_month:\n",
    "        age -= 1\n",
    "    return age\n",
    "\n",
    "def can_retire(gender, date_of_birth):\n",
    "    # date_of_birth should be a tuple: (year, month, day)\n",
    "    age = get_age(date_of_birth[0], date_of_birth[1], date_of_birth[2])\n",
    "    if gender == 'm':\n",
    "        return age >= 67\n",
    "    elif gender == 'f':\n",
    "        return age >= 62\n",
    "    else:\n",
    "        return False\n",
    "    \n",
    "gender = input('Enter your gender(m/f):')\n",
    "year = int(input('Enter your birth year'))\n",
    "month = int(input('Enter your birth month'))\n",
    "day = int(input('Enter your birth day'))\n",
    "\n",
    "if can_retire(gender, (year, month, day)):\n",
    "    print('You can retire')\n",
    "else:\n",
    "    print('You cannot retire')"
   ]
  },
  {
   "cell_type": "code",
   "execution_count": null,
   "metadata": {},
   "outputs": [
    {
     "name": "stdout",
     "output_type": "stream",
     "text": [
      "3702\n"
     ]
    },
    {
     "ename": "",
     "evalue": "",
     "output_type": "error",
     "traceback": [
      "\u001b[1;31mThe Kernel crashed while executing code in the current cell or a previous cell. \n",
      "\u001b[1;31mPlease review the code in the cell(s) to identify a possible cause of the failure. \n",
      "\u001b[1;31mClick <a href='https://aka.ms/vscodeJupyterKernelCrash'>here</a> for more info. \n",
      "\u001b[1;31mView Jupyter <a href='command:jupyter.viewOutput'>log</a> for further details."
     ]
    }
   ],
   "source": [
    "# Exercise 4:\n",
    "\n",
    "def myfunction(x):\n",
    "    x_str = str(x)\n",
    "    result = int(x_str) + int(x_str*2) + int(x_str*3) + int(x_str*4)\n",
    "    return result\n",
    "\n",
    "print(myfunction(3))"
   ]
  }
 ],
 "metadata": {
  "kernelspec": {
   "display_name": "Python 3",
   "language": "python",
   "name": "python3"
  },
  "language_info": {
   "codemirror_mode": {
    "name": "ipython",
    "version": 3
   },
   "file_extension": ".py",
   "mimetype": "text/x-python",
   "name": "python",
   "nbconvert_exporter": "python",
   "pygments_lexer": "ipython3",
   "version": "3.13.3"
  }
 },
 "nbformat": 4,
 "nbformat_minor": 5
}

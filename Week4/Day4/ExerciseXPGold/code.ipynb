{
 "cells": [
  {
   "cell_type": "code",
   "execution_count": 2,
   "id": "45ed3ed5",
   "metadata": {},
   "outputs": [
    {
     "name": "stdout",
     "output_type": "stream",
     "text": [
      "first_name : john\n",
      "middle_name : hooker\n",
      "last_name : lee\n",
      "first_name : Chloé\n",
      "last_name : Anthony\n"
     ]
    }
   ],
   "source": [
    "# Exercise 1 : What’s your name ?\n",
    "\n",
    "def get_full_name(**kwargs):\n",
    "    for key, value in kwargs.items():\n",
    "        print(key, ':' , value)\n",
    "\n",
    "get_full_name(first_name=\"john\", middle_name=\"hooker\", last_name=\"lee\")\n",
    "get_full_name(first_name = 'Chloé', last_name = 'Anthony')"
   ]
  },
  {
   "cell_type": "code",
   "execution_count": null,
   "id": "591a0030",
   "metadata": {},
   "outputs": [
    {
     "name": "stdout",
     "output_type": "stream",
     "text": [
      ".... . .-.. .-.. --- / .-- --- .-. .-.. -..\n",
      "HELLO WORLD\n"
     ]
    },
    {
     "ename": "",
     "evalue": "",
     "output_type": "error",
     "traceback": [
      "\u001b[1;31mThe Kernel crashed while executing code in the current cell or a previous cell. \n",
      "\u001b[1;31mPlease review the code in the cell(s) to identify a possible cause of the failure. \n",
      "\u001b[1;31mClick <a href='https://aka.ms/vscodeJupyterKernelCrash'>here</a> for more info. \n",
      "\u001b[1;31mView Jupyter <a href='command:jupyter.viewOutput'>log</a> for further details."
     ]
    }
   ],
   "source": [
    "# Exercise 2 : From English to Morse\n",
    "\n",
    "morse_code_dict = {\n",
    "    'A': '.-',    'B': '-...',  'C': '-.-.', 'D': '-..', 'E': '.',    'F': '..-.',\n",
    "    'G': '--.',   'H': '....',  'I': '..',   'J': '.---','K': '-.-',  'L': '.-..',\n",
    "    'M': '--',    'N': '-.',    'O': '---',  'P': '.--.','Q': '--.-', 'R': '.-.',\n",
    "    'S': '...',   'T': '-',     'U': '..-',  'V': '...-','W': '.--',  'X': '-..-',\n",
    "    'Y': '-.--',  'Z': '--..',\n",
    "    '0': '-----', '1': '.----', '2': '..---','3': '...--','4': '....-',\n",
    "    '5': '.....', '6': '-....', '7': '--...','8': '---..','9': '----.',\n",
    "    ',': '--..--','.': '.-.-.-','?': '..--..','/': '-..-.','-': '-....-',\n",
    "    '(': '-.--.', ')': '-.--.-', ' ': '/'\n",
    "}\n",
    "\n",
    "morse_code_dict_reverse = {}\n",
    "for key, value in morse_code_dict.items():\n",
    "    morse_code_dict_reverse[value] = key\n",
    "\n",
    "def english_to_morse(text):\n",
    "    text = text.upper()\n",
    "    morse = []\n",
    "    for char in text:\n",
    "        if char in morse_code_dict:\n",
    "            morse.append(morse_code_dict[char])\n",
    "    return ' '.join(morse)\n",
    "\n",
    "def morse_to_english(morse_code):\n",
    "    words = morse_code.split(' / ')\n",
    "    decoded_words = []\n",
    "    for word in words:\n",
    "        letters = word.split()\n",
    "        decoded_word = ''.join(morse_code_dict_reverse.get(letter, '') for letter in letters)\n",
    "        decoded_words.append(decoded_word)\n",
    "    return ' '.join(decoded_words)\n",
    "\n",
    "print(english_to_morse(\"Hello World\"))\n",
    "print(morse_to_english(\".... . .-.. .-.. --- / .-- --- .-. .-.. -..\"))"
   ]
  }
 ],
 "metadata": {
  "kernelspec": {
   "display_name": "Python 3",
   "language": "python",
   "name": "python3"
  },
  "language_info": {
   "codemirror_mode": {
    "name": "ipython",
    "version": 3
   },
   "file_extension": ".py",
   "mimetype": "text/x-python",
   "name": "python",
   "nbconvert_exporter": "python",
   "pygments_lexer": "ipython3",
   "version": "3.13.3"
  }
 },
 "nbformat": 4,
 "nbformat_minor": 5
}

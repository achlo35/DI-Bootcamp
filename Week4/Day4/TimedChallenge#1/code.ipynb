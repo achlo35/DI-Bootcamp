{
 "cells": [
  {
   "cell_type": "code",
   "execution_count": 9,
   "id": "a1219f3f",
   "metadata": {},
   "outputs": [
    {
     "name": "stdout",
     "output_type": "stream",
     "text": [
      "wawawa\n",
      "Occurence of charater w is 3\n"
     ]
    }
   ],
   "source": [
    "def char_search(char):\n",
    "    count = 0\n",
    "    for character in my_string:\n",
    "        if char.lower() == character:\n",
    "            count += 1\n",
    "    print(f'Occurence of charater {char} is {count}')\n",
    "\n",
    "my_string = input('Enter a string').lower()\n",
    "print(my_string)\n",
    "char_search('w')\n"
   ]
  }
 ],
 "metadata": {
  "kernelspec": {
   "display_name": "Python 3",
   "language": "python",
   "name": "python3"
  },
  "language_info": {
   "codemirror_mode": {
    "name": "ipython",
    "version": 3
   },
   "file_extension": ".py",
   "mimetype": "text/x-python",
   "name": "python",
   "nbconvert_exporter": "python",
   "pygments_lexer": "ipython3",
   "version": "3.13.3"
  }
 },
 "nbformat": 4,
 "nbformat_minor": 5
}

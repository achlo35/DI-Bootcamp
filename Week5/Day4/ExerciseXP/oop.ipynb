{
 "cells": [
  {
   "cell_type": "code",
   "execution_count": 14,
   "metadata": {},
   "outputs": [
    {
     "name": "stdout",
     "output_type": "stream",
     "text": [
      "Ben is walking\n",
      "Charles is walking\n",
      "Sia is walking\n"
     ]
    }
   ],
   "source": [
    "# Exercise 1: Pets\n",
    "\n",
    "class Pets():\n",
    "    def __init__(self, animals):\n",
    "        self.animals = animals\n",
    "\n",
    "    def walk(self):\n",
    "        for animal in self.animals:\n",
    "            print(f'{animal.name} is walking')\n",
    "\n",
    "class Cat():\n",
    "    is_lazy = True\n",
    "\n",
    "    def __init__(self, name, age):\n",
    "        self.name = name\n",
    "        self.age = age\n",
    "\n",
    "    def walk(self):\n",
    "        return f'{self.name}is just walking around'\n",
    "\n",
    "class Bengal(Cat):\n",
    "    def sing(self, sounds):\n",
    "        return f'{sounds}'\n",
    "    \n",
    "class Chartreux(Cat):\n",
    "    def sing(self, sounds):\n",
    "        return f'{sounds}'\n",
    "    \n",
    "class Siamese(Cat):\n",
    "    def sing(self, sounds):\n",
    "        return f'{sounds}'\n",
    "    \n",
    "all_cats = [Bengal('Ben', 2), Chartreux('Charles', 4), Siamese('Sia', 3)]\n",
    "sara_pets = Pets(all_cats)\n",
    "sara_pets.walk()\n",
    "\n",
    "\n",
    "\n"
   ]
  },
  {
   "cell_type": "code",
   "execution_count": 15,
   "id": "5fe63e66",
   "metadata": {},
   "outputs": [
    {
     "name": "stdout",
     "output_type": "stream",
     "text": [
      "Rex is barking\n",
      "25/3 * 10\n",
      "Buddy wins the fight against Rex\n"
     ]
    }
   ],
   "source": [
    "# Exercise 2: Dogs\n",
    "\n",
    "class Dog():\n",
    "    def __init__(self, name, age, weight):\n",
    "        self.name = name\n",
    "        self.age = age\n",
    "        self.weight = weight\n",
    "\n",
    "    def bark(self):\n",
    "        return f'{self.name} is barking'\n",
    "    \n",
    "    def run_speed(self):\n",
    "        return f'{self.weight}/{self.age} * 10'\n",
    "\n",
    "    def fight(self, other_dog):\n",
    "        if self.run_speed()*self.weight > other_dog.run_speed()*other_dog.weight:\n",
    "            return f'{self.name} wins the fight against {other_dog.name}'\n",
    "        elif self.run_speed()*self.weight < other_dog.run_speed()*other_dog.weight:\n",
    "            return f'{other_dog.name} wins the fight against {self.name}'\n",
    "        else:\n",
    "            return f'{self.name} and {other_dog.name} are equally matched'\n",
    "        \n",
    "dog1 = Dog('Rex', 5, 20)\n",
    "dog2 = Dog('Buddy', 3, 25)\n",
    "\n",
    "print(dog1.bark())\n",
    "print(dog2.run_speed())\n",
    "print(dog1.fight(dog2))\n"
   ]
  },
  {
   "cell_type": "code",
   "execution_count": null,
   "metadata": {},
   "outputs": [
    {
     "name": "stdout",
     "output_type": "stream",
     "text": [
      "Fido is barking\n",
      "All play together\n",
      "Fido is doing a does a barrel roll\n"
     ]
    }
   ],
   "source": [
    "# Exercise 3: Dogs Domesticated\n",
    "\n",
    "class PetDog(Dog):\n",
    "    def __init__(self, name, age, weight, trained=False):\n",
    "        super().__init__(name, age, weight)\n",
    "        self.traied = trained\n",
    "\n",
    "    def train(self):\n",
    "        print(self.bark())\n",
    "        self.trained =True\n",
    "\n",
    "    def play(*args):\n",
    "        print('All play together')\n",
    "\n",
    "    def do_a_trick(self, trick):\n",
    "        if self.trained == True:\n",
    "            print(f'{self.name} is doing a {trick}')\n",
    "        else:\n",
    "            print(f'{self.name} is not trained to do {trick}')\n",
    "\n",
    "# tricks = [\"does a barrel roll\", \"stands on his back legs\", \"shakes your hand\", \"plays dead\"]\n",
    "# Test PetDog methods\n",
    "my_dog = PetDog(\"Fido\", 2, 10)\n",
    "my_dog.train()\n",
    "my_dog.play(\"Buddy\", \"Max\")\n",
    "my_dog.do_a_trick(\"does a barrel roll\")"
   ]
  },
  {
   "cell_type": "code",
   "execution_count": 22,
   "id": "592b8dc3",
   "metadata": {},
   "outputs": [
    {
     "name": "stdout",
     "output_type": "stream",
     "text": [
      "Family Doe members:\n",
      "Alice Doe, Age: 20\n",
      "Bob Doe, Age: 16\n",
      "You are over 18, your parents Jane and John accept that you will go out with your friends\n",
      "Sorry, you are not allowed to go out with your friends.\n"
     ]
    }
   ],
   "source": [
    "# Exercise 4: Family and Person Classes\n",
    "\n",
    "class Person():\n",
    "    def __init__(self, first_name, age, last_name):\n",
    "        self.first_name = first_name\n",
    "        self.age = age\n",
    "        self.last_name = last_name\n",
    "\n",
    "    def is_18(self):\n",
    "        if self.age >= 18:\n",
    "            return True\n",
    "        else:\n",
    "            return False\n",
    "        \n",
    "class Family():\n",
    "    def __init__(self, last_name):\n",
    "        self.members = []\n",
    "        self.last_name = last_name\n",
    "\n",
    "    def born(self, first_name, age):\n",
    "        new_member = Person(first_name, age, self.last_name)\n",
    "        self.members.append(new_member)\n",
    "        return new_member\n",
    "    \n",
    "    def check_majority(self, first_name):\n",
    "        for member in self.members:\n",
    "            if member.first_name == first_name:\n",
    "                if member.is_18():\n",
    "                    print(\"You are over 18, your parents Jane and John accept that you will go out with your friends\")\n",
    "                else:\n",
    "                    print(\"Sorry, you are not allowed to go out with your friends.\")\n",
    "    \n",
    "    def family_presentation(self):\n",
    "        print(f\"Family {self.last_name} members:\")\n",
    "        for member in self.members:\n",
    "            print(f\"{member.first_name} {member.last_name}, Age: {member.age}\")\n",
    "\n",
    "\n",
    "# Example usage\n",
    "if __name__ == \"__main__\":\n",
    "    family = Family(\"Doe\")\n",
    "    family.born(\"Alice\", 20)\n",
    "    family.born(\"Bob\", 16)\n",
    "    \n",
    "    family.family_presentation()\n",
    "    \n",
    "    family.check_majority(\"Alice\")\n",
    "    family.check_majority(\"Bob\")\n",
    "        \n",
    "        "
   ]
  }
 ],
 "metadata": {
  "kernelspec": {
   "display_name": "Python 3",
   "language": "python",
   "name": "python3"
  },
  "language_info": {
   "codemirror_mode": {
    "name": "ipython",
    "version": 3
   },
   "file_extension": ".py",
   "mimetype": "text/x-python",
   "name": "python",
   "nbconvert_exporter": "python",
   "pygments_lexer": "ipython3",
   "version": "3.13.3"
  }
 },
 "nbformat": 4,
 "nbformat_minor": 5
}

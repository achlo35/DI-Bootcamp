{
 "cells": [
  {
   "cell_type": "code",
   "execution_count": 8,
   "id": "4b1a4a6e",
   "metadata": {},
   "outputs": [
    {
     "name": "stdout",
     "output_type": "stream",
     "text": [
      "Perimeter of circle is 21.99\n",
      "Area of circle is 38.48\n",
      "A circle is a two-dimensional geometrical shape defined as the set of all points in a plane that are all equidistant from a fixed point, called the center.\n"
     ]
    }
   ],
   "source": [
    "# Exercise 1 : Geometry\n",
    "\n",
    "class Circle():\n",
    "    def __init__(self, radius=1.0):\n",
    "        self.radius = radius\n",
    "    \n",
    "    def perimeter(self):\n",
    "        from math import pi\n",
    "        p = 2.0 * pi * self.radius\n",
    "        print(f'Perimeter of circle is {p:.2f}')\n",
    "    \n",
    "    def area(self):\n",
    "        from math import pi\n",
    "        a = pi * (self.radius**2)\n",
    "        print(f'Area of circle is {a:.2f}')\n",
    "\n",
    "    def definition(self):\n",
    "        print('A circle is a two-dimensional geometrical shape defined as the set of all points in a plane that are all equidistant from a fixed point, called the center.')\n",
    "\n",
    "my_circle = Circle(3.5)\n",
    "my_circle.perimeter()\n",
    "my_circle.area()\n",
    "my_circle.definition()\n",
    "        "
   ]
  },
  {
   "cell_type": "code",
   "execution_count": 10,
   "metadata": {},
   "outputs": [
    {
     "name": "stdout",
     "output_type": "stream",
     "text": [
      "Reverse List: ['z', 'O', 'G', 'f', 'A']\n",
      "['A', 'f', 'G', 'O', 'z']\n"
     ]
    }
   ],
   "source": [
    "# Exercise 2 : Custom List Class\n",
    "\n",
    "class MyList():\n",
    "    def __init__(self):\n",
    "        self.list = []\n",
    "\n",
    "    def add_letter(self, letter):\n",
    "        self.list.append(letter)\n",
    "    \n",
    "    def reverse_list(self):\n",
    "        self.list.reverse()\n",
    "        print(f'Reverse List: {self.list}')\n",
    "\n",
    "    def sort_list(self):\n",
    "        self.list.sort(key=str.lower)\n",
    "        print(self.list)\n",
    "    \n",
    "this_list = MyList()\n",
    "this_list.add_letter('A')\n",
    "this_list.add_letter('f')\n",
    "this_list.add_letter('G')\n",
    "this_list.add_letter('O')\n",
    "this_list.add_letter('z')\n",
    "\n",
    "this_list.reverse_list()\n",
    "\n",
    "this_list.sort_list()"
   ]
  }
 ],
 "metadata": {
  "kernelspec": {
   "display_name": "Python 3",
   "language": "python",
   "name": "python3"
  },
  "language_info": {
   "codemirror_mode": {
    "name": "ipython",
    "version": 3
   },
   "file_extension": ".py",
   "mimetype": "text/x-python",
   "name": "python",
   "nbconvert_exporter": "python",
   "pygments_lexer": "ipython3",
   "version": "3.13.3"
  }
 },
 "nbformat": 4,
 "nbformat_minor": 5
}

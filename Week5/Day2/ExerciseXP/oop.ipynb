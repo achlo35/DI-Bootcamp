{
 "cells": [
  {
   "cell_type": "code",
   "execution_count": 1,
   "id": "8bdb3b3a",
   "metadata": {},
   "outputs": [
    {
     "name": "stdout",
     "output_type": "stream",
     "text": [
      "John\n",
      "36\n"
     ]
    }
   ],
   "source": [
    "class Person():\n",
    "  def __init__(self, name, age):\n",
    "    self.name = name\n",
    "    self.age = age\n",
    "\n",
    "first_person = Person(\"John\", 36)\n",
    "\n",
    "print(first_person.name)\n",
    "print(first_person.age)"
   ]
  },
  {
   "cell_type": "code",
   "execution_count": 2,
   "id": "823bd52e",
   "metadata": {},
   "outputs": [
    {
     "name": "stdout",
     "output_type": "stream",
     "text": [
      "Apple\n",
      "I am a computer, my name is Mark\n",
      "<__main__.Computer object at 0x000001EE4510AC10>\n",
      "I am a computer, my name is Mark\n",
      "<__main__.Computer object at 0x000001EE4510AC10>\n"
     ]
    }
   ],
   "source": [
    "class Computer():\n",
    "\n",
    "    def description(self, name):\n",
    "        \"\"\"\n",
    "        This is a totally useless function\n",
    "        \"\"\"\n",
    "        print(\"I am a computer, my name is\", name)\n",
    "        #Analyse the line below\n",
    "        print(self)\n",
    "\n",
    "mac_computer = Computer()\n",
    "mac_computer.brand = \"Apple\"\n",
    "print(mac_computer.brand)\n",
    "\n",
    "dell_computer = Computer()\n",
    "\n",
    "Computer.description(dell_computer, \"Mark\")\n",
    "# IS THE SAME AS:\n",
    "dell_computer.description(\"Mark\")"
   ]
  },
  {
   "cell_type": "code",
   "execution_count": 15,
   "id": "f0899176",
   "metadata": {},
   "outputs": [
    {
     "name": "stdout",
     "output_type": "stream",
     "text": [
      "The oldest cat is Wiwi, and is 8 years old.\n"
     ]
    }
   ],
   "source": [
    "# Exercise 1: Cats\n",
    "\n",
    "class Cat():\n",
    "    def __init__(self, cat_name, cat_age):\n",
    "        self.name = cat_name\n",
    "        self.age = cat_age\n",
    "\n",
    "cat1 = Cat('Wiwi', 8)\n",
    "cat2 = Cat('Sky', 5)\n",
    "cat3 = Cat('Caramel', 3)\n",
    "\n",
    "def oldest_cat(cat1, cat2, cat3):\n",
    "        if cat1.age >= cat2.age and cat1.age >= cat3.age:\n",
    "            return cat1\n",
    "        elif cat2.age >= cat1.age and cat2.age >= cat3.age:\n",
    "            return cat2\n",
    "        else:\n",
    "            return cat3\n",
    "\n",
    "oldest = oldest_cat(cat1, cat2, cat3)\n",
    "print(f'The oldest cat is {oldest.name}, and is {oldest.age} years old.')\n",
    "            \n"
   ]
  },
  {
   "cell_type": "code",
   "execution_count": 21,
   "id": "257f76fb",
   "metadata": {},
   "outputs": [
    {
     "name": "stdout",
     "output_type": "stream",
     "text": [
      "Rex\n",
      "90\n",
      "Pixie\n",
      "65\n",
      "Rex goes WOOF!\n",
      "Pixie goes WOOF!\n",
      "Rex jumps 180cm high\n",
      "Pixie jumps 130cm high\n",
      "Rex is taller by 25cm\n",
      "<__main__.Dog object at 0x000001EE453196A0>\n"
     ]
    }
   ],
   "source": [
    "# Exercise 2 : Dogs\n",
    "\n",
    "class Dog():\n",
    "    def __init__(self, dog_name, dog_height):\n",
    "        self.name = dog_name\n",
    "        self.height = dog_height\n",
    "\n",
    "    def bark(self):\n",
    "        print(f'{self.name} goes WOOF!')\n",
    "\n",
    "    def jump(self):\n",
    "        print(f'{self.name} jumps {self.height *2}cm high')\n",
    "\n",
    "davids_dog = Dog('Rex', 90)\n",
    "sarahs_dog = Dog('Pixie', 65)\n",
    "\n",
    "print(davids_dog.name)\n",
    "print(davids_dog.height)\n",
    "print(sarahs_dog.name)\n",
    "print(sarahs_dog.height)\n",
    "\n",
    "davids_dog.bark()\n",
    "sarahs_dog.bark()\n",
    "\n",
    "davids_dog.jump()\n",
    "sarahs_dog.jump()\n",
    "\n",
    "def size(davids_dog, sarahs_dog):\n",
    "    if davids_dog.height > sarahs_dog.height:\n",
    "        print(f'{davids_dog.name} is taller by {davids_dog.height - sarahs_dog.height}cm')\n",
    "        return davids_dog\n",
    "    else:\n",
    "        print(f'{sarahs_dog.name} is taller by {sarahs_dog.height - davids_dog.height}cm')\n",
    "        return sarahs_dog\n",
    "    \n",
    "dog_size = size(davids_dog, sarahs_dog)\n",
    "print(dog_size)\n"
   ]
  },
  {
   "cell_type": "code",
   "execution_count": 25,
   "id": "fbb2ab7d",
   "metadata": {},
   "outputs": [
    {
     "name": "stdout",
     "output_type": "stream",
     "text": [
      "There’s a lady who's sure\n",
      "all that glitters is gold\n",
      "and she’s buying a stairway to heaven\n"
     ]
    }
   ],
   "source": [
    "# Exercise 3 : Who’s the song producer?\n",
    "\n",
    "class Song():\n",
    "    def __init__(self, lyrics):\n",
    "        self.lyrics = lyrics\n",
    "    \n",
    "    def sing_me_a_song(self):\n",
    "        for line in self.lyrics:\n",
    "            print(line)\n",
    "\n",
    "lyrics = [\n",
    "    \"There’s a lady who's sure\",\n",
    "    \"all that glitters is gold\", \n",
    "    \"and she’s buying a stairway to heaven\"\n",
    "]\n",
    "\n",
    "my_song = Song(lyrics)\n",
    "my_song.sing_me_a_song()\n",
    "        "
   ]
  },
  {
   "cell_type": "code",
   "execution_count": null,
   "id": "e3179e47",
   "metadata": {},
   "outputs": [],
   "source": [
    "class BankAccount:\n",
    "\n",
    "    def __init__(self, account_number, balance=0):\n",
    "        self.account_number = account_number\n",
    "        self.balance = balance\n",
    "        self.transactions = []\n",
    "\n",
    "    def view_balance(self):\n",
    "        self.transactions.append(\"View Balance\")\n",
    "        print(f\"Balance for account {self.account_number}: {self.balance}\")\n",
    "\n",
    "    def deposit(self, amount):\n",
    "        if amount <= 0:\n",
    "            print(\"Invalid amount\")\n",
    "        elif amount < 100:\n",
    "            print(\"Minimum deposit is 100\")\n",
    "        else:\n",
    "            self.balance += amount\n",
    "            self.transactions.append(f\"Deposit: {amount}\")\n",
    "            print(\"Deposit Succcessful\")\n",
    "\n",
    "    def withdraw(self, amount):\n",
    "        if amount > self.balance:\n",
    "            print(\"Insufficient Funds\")\n",
    "        else:\n",
    "            self.balance -= amount\n",
    "            self.transactions.append(f\"Withdraw: {amount}\")\n",
    "            print(\"Withdraw Approved\")\n",
    "            return amount\n",
    "\n",
    "    def view_transactions(self):\n",
    "        print(\"Transactions:\")\n",
    "        print(\"-------------\")\n",
    "        for transaction in self.transactions:\n",
    "            print(transaction)"
   ]
  },
  {
   "cell_type": "code",
   "execution_count": 3,
   "id": "e1375935",
   "metadata": {},
   "outputs": [
    {
     "name": "stdout",
     "output_type": "stream",
     "text": [
      "['Giraffe', 'Bear', 'Baboon']\n",
      "Bear has been sold\n",
      "['Giraffe', 'Baboon']\n",
      "B: ['Baboon']\n",
      "G: ['Giraffe']\n"
     ]
    }
   ],
   "source": [
    "# Exercise 4 : Afternoon at the Zoo\n",
    "\n",
    "class Zoo():\n",
    "    def __init__(self, zoo_name):\n",
    "        self.name = zoo_name\n",
    "        self.animals = []\n",
    "    \n",
    "    def add_animal(self, new_animal):\n",
    "        self.animals.append(new_animal)\n",
    "\n",
    "    def get_animals(self):\n",
    "        print(self.animals)\n",
    "\n",
    "    def sell_animal(self, animal_sold):\n",
    "        if animal_sold in self.animals:\n",
    "            self.animals.remove(animal_sold)\n",
    "            print(f'{animal_sold} has been sold')\n",
    "        else:\n",
    "            print(f'{animal_sold} not found in the zoo')\n",
    "\n",
    "    def sort_animals(self):\n",
    "        self.animals.sort(key=str.lower)\n",
    "\n",
    "    def get_groups(self):\n",
    "        grouped_dict = {}\n",
    "        for animal in self.animals:\n",
    "            first_letter = animal[0]\n",
    "            if first_letter not in grouped_dict:\n",
    "                grouped_dict[first_letter] = []\n",
    "            grouped_dict[first_letter].append(animal)\n",
    "\n",
    "        for letter, animals in grouped_dict.items():\n",
    "            print(f'{letter}: {animals}')\n",
    "\n",
    "\n",
    "ramat_gan_safari = Zoo(\"Ramat Gan Safari\")\n",
    "\n",
    "# Step 3: Use the Zoo methods\n",
    "ramat_gan_safari.add_animal(\"Giraffe\")\n",
    "ramat_gan_safari.add_animal(\"Bear\")\n",
    "ramat_gan_safari.add_animal(\"Baboon\")\n",
    "ramat_gan_safari.get_animals()\n",
    "ramat_gan_safari.sell_animal(\"Bear\")\n",
    "ramat_gan_safari.get_animals()\n",
    "ramat_gan_safari.sort_animals()\n",
    "ramat_gan_safari.get_groups()"
   ]
  }
 ],
 "metadata": {
  "kernelspec": {
   "display_name": "Python 3",
   "language": "python",
   "name": "python3"
  },
  "language_info": {
   "codemirror_mode": {
    "name": "ipython",
    "version": 3
   },
   "file_extension": ".py",
   "mimetype": "text/x-python",
   "name": "python",
   "nbconvert_exporter": "python",
   "pygments_lexer": "ipython3",
   "version": "3.13.3"
  }
 },
 "nbformat": 4,
 "nbformat_minor": 5
}

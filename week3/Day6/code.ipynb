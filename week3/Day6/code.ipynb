{
 "cells": [
  {
   "cell_type": "code",
   "execution_count": 1,
   "id": "ccc37350",
   "metadata": {},
   "outputs": [
    {
     "name": "stdout",
     "output_type": "stream",
     "text": [
      "{'Ten': 10, 'Twenty': 20, 'Thirty': 30}\n"
     ]
    }
   ],
   "source": [
    "# Exercise 1: Converting Lists into Dictionaries\n",
    "\n",
    "keys = ['Ten', 'Twenty', 'Thirty']\n",
    "values = [10, 20, 30]\n",
    "\n",
    "mydict = dict(zip(keys, values))\n",
    "print(mydict)"
   ]
  },
  {
   "cell_type": "code",
   "execution_count": 9,
   "id": "c28f1f80",
   "metadata": {},
   "outputs": [
    {
     "name": "stdout",
     "output_type": "stream",
     "text": [
      "{'quentin': 23, 'chloe': 12, 'tiffany': 2}\n",
      "quentin's ticket: $15\n",
      "chloe's ticket: $10\n",
      "tiffany's ticket: $0\n",
      "Your total is $25\n"
     ]
    }
   ],
   "source": [
    "# Exercise 2: Cinemax #2\n",
    "\n",
    "family = {}\n",
    "\n",
    "while True:\n",
    "    name = input('Enter your name (or enter quit when done)')\n",
    "    if name == 'quit':\n",
    "        break\n",
    "    age = int(input('Enter your age'))\n",
    "    family[name] = age\n",
    "\n",
    "print(family)\n",
    "\n",
    "total = 0\n",
    "for member, age in family.items():\n",
    "    if 3 <= age <= 12:\n",
    "        price = 10\n",
    "    elif age > 12:\n",
    "        price = 15\n",
    "    else:\n",
    "        price = 0\n",
    "    print(f\"{member}'s ticket: ${price}\")\n",
    "    total += price\n",
    "\n",
    "print(f'Your total is ${total}')\n",
    "\n",
    "\n",
    "\n"
   ]
  },
  {
   "cell_type": "code",
   "execution_count": 23,
   "id": "02bd3ad7",
   "metadata": {},
   "outputs": [
    {
     "name": "stdout",
     "output_type": "stream",
     "text": [
      "Zara's clients are : {'home', 'children', 'women', 'men'}\n",
      "Last international competitor: Benetton\n",
      "{'pink', 'green'}\n",
      "Number of keys: 7\n",
      "Keys in dictionary: ['name', 'creator_name', 'type_of_clothes', 'international_competitors', 'number_stores', 'major_color', 'country_creation']\n",
      "{'name': 'Zara', 'creator_name': 'Amancio Ortega Gaona', 'type_of_clothes': {'home', 'children', 'women', 'men'}, 'international_competitors': {'Gap', 'H&M', 'Desigual', 'Benetton'}, 'number_stores': 2, 'major_color': {'France': 'blue', 'Spain': 'red', 'US': {'pink', 'green'}}, 'country_creation': 'Spain'}\n"
     ]
    }
   ],
   "source": [
    "# Exercise 3: Zara\n",
    "\n",
    "thisdict = {\n",
    "    \"name\": \"Zara\",\n",
    "    \"creation_date\": 1975,\n",
    "    \"creator_name\": \"Amancio Ortega Gaona\",\n",
    "    \"type_of_clothes\": {'men', 'women', 'children', 'home'},\n",
    "    \"international_competitors\": {'Gap', 'H&M', 'Benetton'},\n",
    "    \"number_stores\": 7000,\n",
    "    \"major_color\" : {\n",
    "        \"France\": \"blue\", \n",
    "        \"Spain\": \"red\", \n",
    "        \"US\": {'pink', 'green'}\n",
    "    }\n",
    "}\n",
    "\n",
    "# Change the value of number_stores to 2.\n",
    "thisdict['number_stores'] = 2\n",
    "\n",
    "# Print a sentence describing Zara’s clients using the type_of_clothes key.\n",
    "print(f\"Zara's clients are : {thisdict.get('type_of_clothes')}\")\n",
    "\n",
    "# Add a new key country_creation with the value Spain.\n",
    "thisdict['country_creation'] = \"Spain\"\n",
    "\n",
    "# Check if international_competitors exists and, if so, add “Desigual” to the list.\n",
    "if 'international_competitors' in thisdict:\n",
    "    thisdict['international_competitors'].add('Desigual')\n",
    "\n",
    "# Delete the creation_date key.\n",
    "thisdict.pop('creation_date')\n",
    "\n",
    "# Print the last item in international_competitors.\n",
    "print(\"Last international competitor:\", list(thisdict['international_competitors'])[-1])\n",
    "\n",
    "# Print the major colors in the US.\n",
    "print(thisdict['major_color']['US'])\n",
    "\n",
    "# Print the number of keys in the dictionary.\n",
    "count = 0\n",
    "for i in thisdict.keys():\n",
    "    count += 1\n",
    "print(f'Number of keys: {count}')\n",
    "\n",
    "# Print all keys of the dictionary.\n",
    "print(f\"Keys in dictionary: {list(thisdict.keys())}\")\n",
    "\n",
    "\n",
    "print(thisdict)"
   ]
  },
  {
   "cell_type": "code",
   "execution_count": 27,
   "id": "b58d3120",
   "metadata": {},
   "outputs": [
    {
     "name": "stdout",
     "output_type": "stream",
     "text": [
      "{'Mickey': 0, 'Minnie': 1, 'Donald': 2, 'Ariel': 3, 'Pluto': 4}\n",
      "{0: 'Mickey', 1: 'Minnie', 2: 'Donald', 3: 'Ariel', 4: 'Pluto'}\n",
      "{'Ariel': 0, 'Donald': 1, 'Mickey': 2, 'Minnie': 3, 'Pluto': 4}\n"
     ]
    }
   ],
   "source": [
    "# Exercise 4: Disney Characters\n",
    "\n",
    "users = [\"Mickey\", \"Minnie\", \"Donald\", \"Ariel\", \"Pluto\"]\n",
    "\n",
    "disney_users_A = {}\n",
    "disney_users_B= {}\n",
    "\n",
    "for index, name in enumerate(users):\n",
    "    disney_users_A[name] = index\n",
    "    disney_users_B[index] = name\n",
    "\n",
    "disney_users_C= {}\n",
    "for index, name in enumerate(sorted(users)):\n",
    "    disney_users_C[name] = index\n",
    "\n",
    "\n",
    "print(disney_users_A)\n",
    "print(disney_users_B)\n",
    "print(disney_users_C)\n",
    "\n"
   ]
  }
 ],
 "metadata": {
  "kernelspec": {
   "display_name": "Python 3",
   "language": "python",
   "name": "python3"
  },
  "language_info": {
   "codemirror_mode": {
    "name": "ipython",
    "version": 3
   },
   "file_extension": ".py",
   "mimetype": "text/x-python",
   "name": "python",
   "nbconvert_exporter": "python",
   "pygments_lexer": "ipython3",
   "version": "3.13.3"
  }
 },
 "nbformat": 4,
 "nbformat_minor": 5
}

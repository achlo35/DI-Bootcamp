{
 "cells": [
  {
   "cell_type": "code",
   "execution_count": 22,
   "id": "c967346f",
   "metadata": {},
   "outputs": [
    {
     "name": "stdout",
     "output_type": "stream",
     "text": [
      "18,22,24\n"
     ]
    }
   ],
   "source": [
    "# Exercise 1: Formula\n",
    "\n",
    "import math\n",
    "\n",
    "C = 50\n",
    "H = 30\n",
    "\n",
    "input_str = input('Enter comma-separated numbers: ')\n",
    "numbers_list = input_str.split(',')\n",
    "results = []\n",
    "\n",
    "for num in numbers_list:\n",
    "    D = int(num)\n",
    "    Q = round(math.sqrt((2 * C * D) / H))\n",
    "    results.append(str(Q))\n",
    "\n",
    "print(\",\" .join(results))"
   ]
  },
  {
   "cell_type": "code",
   "execution_count": 6,
   "id": "ec5df7a2",
   "metadata": {},
   "outputs": [
    {
     "name": "stdout",
     "output_type": "stream",
     "text": [
      "[44, 91, 8, 24, -6, 0, 56, 8, 100, 2]\n",
      "[100, 91, 56, 44, 24, 8, 8, 2, 0, -6]\n",
      "Sum :  327\n",
      "Smallest number is : -6\n",
      "Largest number is : 100\n",
      "Numbers greater than 50 : [91, 56, 100]\n",
      "Numbers less than 10 : [8, -6, 0, 8, 2]\n",
      "[1936, 8281, 64, 576, 36, 0, 3136, 64, 10000, 4]\n",
      "New list with no duplicates : [44, 91, 8, 24, -6, 0, 56, 100, 2]\n",
      "Number count in new list : 9\n",
      "Average is : 32.7\n"
     ]
    }
   ],
   "source": [
    "# Exercise 2 : List of integers\n",
    "\n",
    "num_list = []\n",
    "total = 0\n",
    "greaterthan50 = []\n",
    "lessthan10 = []\n",
    "squared_list = []\n",
    "count = 0\n",
    "no_duplicates = []\n",
    "\n",
    "while len(num_list) != 10:\n",
    "    input_num = int(input('Enter a number:'))\n",
    "    num_list.append(input_num)\n",
    "\n",
    "print(num_list)\n",
    "\n",
    "sorted_list = sorted(num_list , reverse = True)\n",
    "print(sorted_list)\n",
    "\n",
    "for i in num_list:\n",
    "    total += i\n",
    "\n",
    "print(\"Sum : \" ,total)\n",
    "\n",
    "smallest = min(num_list)\n",
    "largest = max(num_list)\n",
    "\n",
    "print(f\"Smallest number is : {smallest}\")\n",
    "print(f\"Largest number is : {largest}\")\n",
    "\n",
    "for j in num_list:\n",
    "    if j > 50:\n",
    "        greaterthan50.append(j)\n",
    "    elif j < 10:\n",
    "        lessthan10.append(j)\n",
    "\n",
    "print(f'Numbers greater than 50 : {greaterthan50}')\n",
    "print(f'Numbers less than 10 : {lessthan10}')\n",
    "\n",
    "for x in num_list:\n",
    "    squared_number = x**2\n",
    "    squared_list.append(squared_number)\n",
    "\n",
    "print(squared_list)\n",
    "\n",
    "no_duplicates = list(dict.fromkeys(num_list))\n",
    "for y in no_duplicates:\n",
    "    count += 1\n",
    "\n",
    "print(f'New list with no duplicates : {no_duplicates}')\n",
    "print(f'Number count in new list : {count}')\n",
    "\n",
    "average = total/10\n",
    "print(f'Average is : {average}')\n",
    "    \n"
   ]
  },
  {
   "cell_type": "code",
   "execution_count": null,
   "metadata": {},
   "outputs": [
    {
     "name": "stdout",
     "output_type": "stream",
     "text": [
      "Nature is a vast and beautiful tapestry that surrounds us, offering peace, inspiration, and wonder. From the towering mountains to the deep blue oceans, every part of nature holds its own unique charm. Trees sway gently in the breeze, providing shade and shelter for countless creatures. Birds sing melodious tunes each morning, adding music to the natural world. Rivers flow with life, nourishing plants, animals, and people alike. The changing seasons paint landscapes in a stunning array of colors, from spring’s blossoms to winter’s quiet snow. Insects, often overlooked, play vital roles in pollination and the balance of ecosystems. Nature is not only a source of beauty, but also of survival, providing air, water, and food. Sadly, it is under threat from pollution, deforestation, and climate change. Protecting nature is essential—not just for wildlife, but for our own well-being and future.\n",
      "How many characters does it contain? 901\n",
      "How many sentences does it contain? 10\n",
      "How many words does it contain? 141\n",
      "How many unique words does it contain? 106\n"
     ]
    }
   ],
   "source": [
    "# Exercise 3: Working on a paragraph\n",
    "\n",
    "para = 'Nature is a vast and beautiful tapestry that surrounds us, offering peace, inspiration, and wonder. From the towering mountains to the deep blue oceans, every part of nature holds its own unique charm. Trees sway gently in the breeze, providing shade and shelter for countless creatures. Birds sing melodious tunes each morning, adding music to the natural world. Rivers flow with life, nourishing plants, animals, and people alike. The changing seasons paint landscapes in a stunning array of colors, from spring’s blossoms to winter’s quiet snow. Insects, often overlooked, play vital roles in pollination and the balance of ecosystems. Nature is not only a source of beauty, but also of survival, providing air, water, and food. Sadly, it is under threat from pollution, deforestation, and climate change. Protecting nature is essential—not just for wildlife, but for our own well-being and future.'\n",
    "print(para)\n",
    "\n",
    "characters = len(para)\n",
    "print(f'How many characters does it contain? {characters}')\n",
    "\n",
    "sentences = para.split('.')\n",
    "count = 0\n",
    "for s in sentences:\n",
    "    if s.strip() != '':\n",
    "        count +=1\n",
    "print(f'How many sentences does it contain? {count}')\n",
    "\n",
    "words = para.split(' ')\n",
    "print(f'How many words does it contain? {len(words)}')\n",
    "\n",
    "import string\n",
    "clean_words = [w.strip(string.punctuation).lower() for w in words]\n",
    "unique_words = set(clean_words)\n",
    "print('How many unique words does it contain?', len(unique_words))\n",
    "\n",
    "\n"
   ]
  },
  {
   "cell_type": "code",
   "execution_count": 38,
   "id": "adfdf226",
   "metadata": {},
   "outputs": [
    {
     "name": "stdout",
     "output_type": "stream",
     "text": [
      "New: 1\n",
      "to: 1\n",
      "Python: 5\n",
      "or: 2\n",
      "choosing: 1\n",
      "between: 1\n",
      "2: 2\n",
      "and: 1\n",
      "3?: 1\n",
      "Read: 1\n",
      "3.: 1\n"
     ]
    }
   ],
   "source": [
    "# Exercise 4 : Frequency Of The Words\n",
    "\n",
    "mystring = 'New to Python or choosing between Python 2 and Python 3? Read Python 2 or Python 3.'\n",
    "\n",
    "words = mystring.split(' ')\n",
    "\n",
    "freq_dict = {}\n",
    "for word in words:\n",
    "    if word in freq_dict:\n",
    "        freq_dict[word] += 1\n",
    "    else:\n",
    "        freq_dict[word] = 1\n",
    "\n",
    "for word, count in freq_dict.items():\n",
    "    print(f\"{word}: {count}\")\n",
    "\n"
   ]
  }
 ],
 "metadata": {
  "kernelspec": {
   "display_name": "Python 3",
   "language": "python",
   "name": "python3"
  },
  "language_info": {
   "codemirror_mode": {
    "name": "ipython",
    "version": 3
   },
   "file_extension": ".py",
   "mimetype": "text/x-python",
   "name": "python",
   "nbconvert_exporter": "python",
   "pygments_lexer": "ipython3",
   "version": "3.13.3"
  }
 },
 "nbformat": 4,
 "nbformat_minor": 5
}

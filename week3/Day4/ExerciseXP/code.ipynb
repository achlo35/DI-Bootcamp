{
 "cells": [
  {
   "cell_type": "code",
   "execution_count": 19,
   "id": "4417cd7e",
   "metadata": {},
   "outputs": [
    {
     "name": "stdout",
     "output_type": "stream",
     "text": [
      "{1, 2, 3, 4, 5, 6, 7}\n",
      "{1, 2, 3, 4, 5, 6}\n",
      "{1, 2, 3, 4, 5, 6, 8, 9, 10}\n"
     ]
    }
   ],
   "source": [
    "# Exercise 1 : Favourite Numbers\n",
    "\n",
    "my_fav_numbers={1, 2, 3, 4, 5}\n",
    "my_fav_numbers.add(6)\n",
    "my_fav_numbers.add(7)\n",
    "print(my_fav_numbers)\n",
    "\n",
    "my_fav_numbers.remove(7)\n",
    "print(my_fav_numbers)\n",
    "\n",
    "friend_fav_numbers={8, 9, 10}\n",
    "\n",
    "our_fav_numbers= my_fav_numbers.union(friend_fav_numbers)\n",
    "print(our_fav_numbers)"
   ]
  },
  {
   "cell_type": "code",
   "execution_count": null,
   "id": "0c67dd65",
   "metadata": {},
   "outputs": [],
   "source": [
    "# Exercise 2: Tuple\n",
    "\n",
    "my_tuple= (5, 6, 7)\n",
    "# A tuple is immutable, so existing objects in the collection can't be changed"
   ]
  },
  {
   "cell_type": "code",
   "execution_count": 21,
   "id": "fba68b19",
   "metadata": {},
   "outputs": [
    {
     "name": "stdout",
     "output_type": "stream",
     "text": [
      "['Apples', 'Oranges', 'Kiwi', 'Apples']\n",
      "[]\n"
     ]
    }
   ],
   "source": [
    "# Exercise 3: List Manipulation\n",
    "\n",
    "basket = [\"Banana\", \"Apples\", \"Oranges\", \"Blueberries\"]\n",
    "basket.remove(\"Banana\")\n",
    "basket.remove(\"Blueberries\")\n",
    "basket.append(\"Kiwi\")\n",
    "basket.append(\"Apples\") \n",
    "print(basket) #Apples appear 2 time in the list\n",
    "\n",
    "basket.clear()\n",
    "print(basket)"
   ]
  },
  {
   "cell_type": "code",
   "execution_count": 22,
   "id": "5027bc5e",
   "metadata": {},
   "outputs": [
    {
     "name": "stdout",
     "output_type": "stream",
     "text": [
      "[1.5, 2.0, 2.5, 3.0, 3.5, 4.0, 4.5, 5.0]\n"
     ]
    }
   ],
   "source": [
    "# Exercise 4: Floats\n",
    "\n",
    "float_list= []\n",
    "num=1.5\n",
    "while num<=5:\n",
    "    float_list.append(num)\n",
    "    num += 0.5\n",
    "print(float_list)"
   ]
  },
  {
   "cell_type": "code",
   "execution_count": 5,
   "id": "c8dbc184",
   "metadata": {},
   "outputs": [
    {
     "name": "stdout",
     "output_type": "stream",
     "text": [
      "1\n",
      "2\n",
      "3\n",
      "4\n",
      "5\n",
      "6\n",
      "7\n",
      "8\n",
      "9\n",
      "10\n",
      "11\n",
      "12\n",
      "13\n",
      "14\n",
      "15\n",
      "16\n",
      "17\n",
      "18\n",
      "19\n",
      "20\n",
      "0\n",
      "2\n",
      "4\n",
      "6\n",
      "8\n",
      "10\n",
      "12\n",
      "14\n",
      "16\n",
      "18\n",
      "20\n"
     ]
    }
   ],
   "source": [
    "#  Exercise 5: For Loop\n",
    "\n",
    "x = range(1, 21)\n",
    "for n in x:\n",
    "    print(n)\n",
    "\n",
    "y = range(0, 21, 2)\n",
    "for m in y:\n",
    "    print(m)"
   ]
  },
  {
   "cell_type": "code",
   "execution_count": null,
   "id": "23843fb1",
   "metadata": {},
   "outputs": [],
   "source": []
  },
  {
   "cell_type": "code",
   "execution_count": null,
   "id": "1885c6f6",
   "metadata": {},
   "outputs": [
    {
     "name": "stdout",
     "output_type": "stream",
     "text": [
      "We have the same nameeeee\n"
     ]
    }
   ],
   "source": [
    "# Exercise 6: While Loop\n",
    "my_name = \"Chloé\"\n",
    "username=\"\"\n",
    "while username != my_name:\n",
    "    username=input(\"What's your name?\")\n",
    "\n",
    "print(\"We have the same nameeeee\")\n",
    "\n",
    "# another method\n",
    "my_name = \"Chloé\"\n",
    "\n",
    "while True:\n",
    "    username = input(\"What's your name? \")\n",
    "    if username == my_name:\n",
    "        break"
   ]
  },
  {
   "cell_type": "code",
   "execution_count": 14,
   "id": "38e20098",
   "metadata": {},
   "outputs": [
    {
     "name": "stdout",
     "output_type": "stream",
     "text": [
      "You chose a new fruit. I hope you enjoy it!\n"
     ]
    }
   ],
   "source": [
    "# Exercise 7: Favorite Fruits\n",
    "\n",
    "user_fav_fruits=input(\"Input your favourite fruits!\")\n",
    "fruit_list=user_fav_fruits.split()\n",
    "chosen_fruit=input(\"Input any fruit\")\n",
    "\n",
    "if chosen_fruit in fruit_list:\n",
    "    print(\"You chose one of your favorite fruits! Enjoy!\")\n",
    "else:\n",
    "    print(\"You chose a new fruit. I hope you enjoy it!\")\n",
    "\n",
    "     "
   ]
  },
  {
   "cell_type": "code",
   "execution_count": 19,
   "id": "dc01a319",
   "metadata": {},
   "outputs": [
    {
     "name": "stdout",
     "output_type": "stream",
     "text": [
      "Adding mushroom to your pizza\n",
      "Adding bell peppers to your pizza\n",
      "Your pizza toppings are : ['mushroom', 'bell peppers']\n",
      "Total price: $ 15.0\n"
     ]
    }
   ],
   "source": [
    "# Exercise 8: Pizza Toppings\n",
    "\n",
    "pizza_topping=[]\n",
    "base_price = 10\n",
    "topping_price=2.5\n",
    "total=0\n",
    "\n",
    "while True:\n",
    "    topping = input(\"Enter a pizza topping (or type 'quit' to finish):\")\n",
    "    if topping == \"quit\":\n",
    "        break\n",
    "    else:\n",
    "        pizza_topping.append(topping)\n",
    "        print(f\"Adding {topping} to your pizza\")\n",
    "\n",
    "total = base_price + (len(pizza_topping)*topping_price)\n",
    "\n",
    "print(f\"Your pizza toppings are : {pizza_topping}\")\n",
    "print(f\"Total price: $ {total}\")"
   ]
  },
  {
   "cell_type": "code",
   "execution_count": 27,
   "id": "5f7cdc86",
   "metadata": {},
   "outputs": [
    {
     "name": "stdout",
     "output_type": "stream",
     "text": [
      "Your total is : 105\n"
     ]
    }
   ],
   "source": [
    "# Exercise 9: Cinemax Tickets\n",
    "\n",
    "total=0\n",
    "\n",
    "while True:\n",
    "    age=int(input(\"What's the age of the family member(enter 0 when done)?\"))\n",
    "    if age == 0:\n",
    "        break\n",
    "    elif age < 3:\n",
    "        total=total\n",
    "    elif 3<= age <=12:\n",
    "        total+= 10\n",
    "    elif age > 12:\n",
    "        total+= 15\n",
    "    else:\n",
    "        print(\"Invalid age\")\n",
    "\n",
    "print(f\"Your total is : {total}\")\n"
   ]
  },
  {
   "cell_type": "code",
   "execution_count": 26,
   "metadata": {},
   "outputs": [
    {
     "name": "stdout",
     "output_type": "stream",
     "text": [
      "you are not allowed to watch this movie.\n",
      "you are not allowed to watch this movie.\n",
      "final list of attendees: ['terry', 'cheryl', 'alex']\n"
     ]
    }
   ],
   "source": [
    "# Bonus\n",
    "\n",
    "allowed=[]\n",
    "\n",
    "while True:\n",
    "    person_name=input(\"Enter your name(or enter quit when done)\")\n",
    "    if person_name==\"quit\":\n",
    "        break\n",
    "    person_age=int(input(\"Enter your age:\"))\n",
    "    if 16 <=person_age<= 21:\n",
    "        allowed.append(person_name)\n",
    "    else:\n",
    "        print(\"you are not allowed to watch this movie.\")\n",
    "\n",
    "print(f\"final list of attendees: {allowed}\")"
   ]
  },
  {
   "cell_type": "code",
   "execution_count": 28,
   "id": "98e16949",
   "metadata": {},
   "outputs": [
    {
     "name": "stdout",
     "output_type": "stream",
     "text": [
      "Sorry, the deli has run out of Pastrami.\n",
      "I made your Tuna sandwich.\n",
      "I made your Avocado sandwich.\n",
      "I made your Egg sandwich.\n",
      "I made your Chicken sandwich.\n",
      "Finished sandwiches:\n",
      "Tuna\n",
      "Avocado\n",
      "Egg\n",
      "Chicken\n"
     ]
    }
   ],
   "source": [
    "# Exercise 10: Sandwich Orders\n",
    "\n",
    "sandwich_orders = [\"Tuna\", \"Pastrami\", \"Avocado\", \"Pastrami\", \"Egg\", \"Chicken\", \"Pastrami\"]\n",
    "finished_sandwiches=[]\n",
    "\n",
    "print(\"Sorry, the deli has run out of Pastrami.\")\n",
    "\n",
    "while \"Pastrami\" in sandwich_orders:\n",
    "    sandwich_orders.remove(\"Pastrami\")\n",
    "\n",
    "for sandwich in sandwich_orders:\n",
    "    print(f\"I made your {sandwich} sandwich.\")\n",
    "    finished_sandwiches.append(sandwich)\n",
    "\n",
    "print(\"Finished sandwiches:\")\n",
    "for sandwich in finished_sandwiches:\n",
    "    print(sandwich)"
   ]
  }
 ],
 "metadata": {
  "kernelspec": {
   "display_name": "Python 3",
   "language": "python",
   "name": "python3"
  },
  "language_info": {
   "codemirror_mode": {
    "name": "ipython",
    "version": 3
   },
   "file_extension": ".py",
   "mimetype": "text/x-python",
   "name": "python",
   "nbconvert_exporter": "python",
   "pygments_lexer": "ipython3",
   "version": "3.13.3"
  }
 },
 "nbformat": 4,
 "nbformat_minor": 5
}

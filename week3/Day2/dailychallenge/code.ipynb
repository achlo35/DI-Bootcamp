{
 "cells": [
  {
   "cell_type": "code",
   "execution_count": 19,
   "id": "84a42a3a",
   "metadata": {},
   "outputs": [
    {
     "name": "stdout",
     "output_type": "stream",
     "text": [
      "Perfect string.\n",
      "First character: t\n",
      "Last character: n\n",
      "t\n",
      "ta\n",
      "tab\n",
      "tabl\n",
      "table\n",
      "tables\n",
      "tablesp\n",
      "tablespo\n",
      "tablespoo\n",
      "tablespoon\n",
      "Jumbled string: ptlenaboso\n"
     ]
    }
   ],
   "source": [
    "import random\n",
    "\n",
    "word = (input('Enter a word.'))\n",
    "length = len(word)\n",
    "if length < 10:\n",
    "    print('String not long enough.')\n",
    "elif length > 10:\n",
    "    print('String too long.')\n",
    "else:\n",
    "    print('Perfect string.')\n",
    "    print('First character:', word[0])\n",
    "    print('Last character:', word[9])\n",
    "\n",
    "for x in range(1,11):\n",
    "    print(word[:x])\n",
    "\n",
    "\n",
    "char_list = list(word) #convert string into list\n",
    "random.shuffle(char_list) #shuffle the list\n",
    "jumbled = ''.join(char_list) #join characters back into a string\n",
    "print(\"Jumbled string:\", jumbled) #print jumbled string\n"
   ]
  }
 ],
 "metadata": {
  "kernelspec": {
   "display_name": "Python 3",
   "language": "python",
   "name": "python3"
  },
  "language_info": {
   "codemirror_mode": {
    "name": "ipython",
    "version": 3
   },
   "file_extension": ".py",
   "mimetype": "text/x-python",
   "name": "python",
   "nbconvert_exporter": "python",
   "pygments_lexer": "ipython3",
   "version": "3.13.3"
  }
 },
 "nbformat": 4,
 "nbformat_minor": 5
}

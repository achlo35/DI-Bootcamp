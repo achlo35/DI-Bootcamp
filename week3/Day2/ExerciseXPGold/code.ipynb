{
 "cells": [
  {
   "cell_type": "code",
   "execution_count": null,
   "id": "cf4f4537",
   "metadata": {},
   "outputs": [
    {
     "name": "stdout",
     "output_type": "stream",
     "text": [
      "Hello World\n",
      "Hello World\n",
      "Hello World\n",
      "Hello World\n",
      " I love(sure..) Python\n",
      "I love(sure..) Python\n",
      "I love(sure..) Python\n",
      "I love(sure..) Python\n",
      "\n"
     ]
    }
   ],
   "source": [
    "#Exercise 1\n",
    "\n",
    "print(\"Hello World\\n\"*4 , \"I love(sure..) Python\\n\"*4)"
   ]
  },
  {
   "cell_type": "code",
   "execution_count": 8,
   "id": "7002ca13",
   "metadata": {},
   "outputs": [
    {
     "name": "stdout",
     "output_type": "stream",
     "text": [
      "Invalid month number. Go back to school moron.\n"
     ]
    }
   ],
   "source": [
    "# Exercise 2\n",
    "# Spring runs from March (3) to May (5)\n",
    "# Summer runs from June (6) to August (8)\n",
    "# Autumn runs from September (9) to November (11)\n",
    "# Winter runs from December (12) to February (2)\n",
    "\n",
    "month = int(input(\"Enter a month number:\"))\n",
    "\n",
    "if 3 <= month <= 5:\n",
    "    print(\"Spring\")\n",
    "elif 6 <= month <= 8:\n",
    "    print(\"Summer\")\n",
    "elif 9 <= month <= 11:\n",
    "    print(\"Autumn\")\n",
    "elif month == 12 or month <= 2:\n",
    "    print(\"Winter\")\n",
    "else:\n",
    "    print(\"Invalid month number. Go back to school moron.\")"
   ]
  }
 ],
 "metadata": {
  "kernelspec": {
   "display_name": "Python 3",
   "language": "python",
   "name": "python3"
  },
  "language_info": {
   "codemirror_mode": {
    "name": "ipython",
    "version": 3
   },
   "file_extension": ".py",
   "mimetype": "text/x-python",
   "name": "python",
   "nbconvert_exporter": "python",
   "pygments_lexer": "ipython3",
   "version": "3.13.3"
  }
 },
 "nbformat": 4,
 "nbformat_minor": 5
}

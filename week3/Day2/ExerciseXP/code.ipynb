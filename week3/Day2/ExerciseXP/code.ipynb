{
 "cells": [
  {
   "cell_type": "code",
   "execution_count": 8,
   "id": "5319d42d",
   "metadata": {},
   "outputs": [
    {
     "name": "stdout",
     "output_type": "stream",
     "text": [
      "Hello World\n",
      "Hello World\n",
      "Hello World\n",
      "Hello World\n",
      "\n"
     ]
    }
   ],
   "source": [
    "#Exercise 1\n",
    "\n",
    "print(\"Hello World\\n\"*4)"
   ]
  },
  {
   "cell_type": "code",
   "execution_count": null,
   "id": "3e5695f5",
   "metadata": {},
   "outputs": [
    {
     "name": "stdout",
     "output_type": "stream",
     "text": [
      "768\n"
     ]
    }
   ],
   "source": [
    "# Exercise 2\n",
    "\n",
    "total=(99^3)*8\n",
    "print(total)"
   ]
  },
  {
   "cell_type": "code",
   "execution_count": null,
   "id": "7febae77",
   "metadata": {},
   "outputs": [],
   "source": [
    "# Exercise 3 - What is the output\n",
    "\n",
    ">>> 5 < 3  # False\n",
    ">>> 3 == 3 # True\n",
    ">>> 3 == \"3\" # False\n",
    ">>> \"3\" > 3 # TypeError\n",
    ">>> \"Hello\" == \"hello\" # False"
   ]
  },
  {
   "cell_type": "code",
   "execution_count": 11,
   "id": "72b067fb",
   "metadata": {},
   "outputs": [
    {
     "name": "stdout",
     "output_type": "stream",
     "text": [
      "I have a HP computer.\n"
     ]
    }
   ],
   "source": [
    "# Exercise 4\n",
    "\n",
    "computer_brand = \"HP\" \n",
    "print(f\"I have a {computer_brand} computer.\")"
   ]
  },
  {
   "cell_type": "code",
   "execution_count": 12,
   "id": "a9dd9d42",
   "metadata": {},
   "outputs": [
    {
     "name": "stdout",
     "output_type": "stream",
     "text": [
      "My name is Chloé, I am 20 years old and I am currently studying at Developers Institute.\n"
     ]
    }
   ],
   "source": [
    "# Exercise 5\n",
    "\n",
    "name = \"Chloé\"\n",
    "age = 20\n",
    "school = \"Developers Institute\"\n",
    "info = f\"My name is {name}, I am {age} years old and I am currently studying at {school}.\"\n",
    "print(info)"
   ]
  },
  {
   "cell_type": "code",
   "execution_count": 15,
   "id": "1d02a889",
   "metadata": {},
   "outputs": [
    {
     "name": "stdout",
     "output_type": "stream",
     "text": [
      "Goodbye World\n"
     ]
    }
   ],
   "source": [
    "# Exercise 6\n",
    "\n",
    "a = 58\n",
    "b = 832\n",
    "\n",
    "if a > b:\n",
    "    print(\"Hello World\")\n",
    "else:\n",
    "    print(\"Goodbye World\")"
   ]
  },
  {
   "cell_type": "code",
   "execution_count": 16,
   "id": "2f6e6069",
   "metadata": {},
   "outputs": [
    {
     "name": "stdout",
     "output_type": "stream",
     "text": [
      "Your name sucks! Mine is way cooler!\n"
     ]
    }
   ],
   "source": [
    "# Exercise 7\n",
    "\n",
    "myname = \"Chloé\"    \n",
    "username = input(\"What's your name?\")\n",
    "\n",
    "if username == myname:\n",
    "    print(\"Whoa! You have the same name as me! Are we twins or something?\")\n",
    "else:\n",
    "    print(\"Your name sucks! Mine is way cooler!\")"
   ]
  },
  {
   "cell_type": "code",
   "execution_count": 18,
   "id": "d81b610b",
   "metadata": {},
   "outputs": [
    {
     "name": "stdout",
     "output_type": "stream",
     "text": [
      "Even number\n"
     ]
    }
   ],
   "source": [
    "# Exercise 8\n",
    "\n",
    "number = int(input(\"Enter a number\"))\n",
    "if number % 2 ==0:\n",
    "    print(\"Even number\")\n",
    "else:\n",
    "    print(\"Odd number\")"
   ]
  },
  {
   "cell_type": "code",
   "execution_count": 20,
   "id": "3a4f01c5",
   "metadata": {},
   "outputs": [
    {
     "name": "stdout",
     "output_type": "stream",
     "text": [
      "You cannot ride the rollercoaster you garden gnome\n"
     ]
    }
   ],
   "source": [
    "# Exercise 9\n",
    "\n",
    "height = int(input(\"Enter your height in cm\"))\n",
    "if height > 145:\n",
    "    print(\"You can ride the rollercoaster\")\n",
    "else:\n",
    "    print(\"You cannot ride the rollercoaster you garden gnome\")"
   ]
  }
 ],
 "metadata": {
  "kernelspec": {
   "display_name": "Python 3",
   "language": "python",
   "name": "python3"
  },
  "language_info": {
   "codemirror_mode": {
    "name": "ipython",
    "version": 3
   },
   "file_extension": ".py",
   "mimetype": "text/x-python",
   "name": "python",
   "nbconvert_exporter": "python",
   "pygments_lexer": "ipython3",
   "version": "3.13.3"
  }
 },
 "nbformat": 4,
 "nbformat_minor": 5
}

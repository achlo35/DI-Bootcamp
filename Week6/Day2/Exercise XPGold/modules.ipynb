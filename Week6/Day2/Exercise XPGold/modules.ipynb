{
 "cells": [
  {
   "cell_type": "code",
   "execution_count": null,
   "id": "331c0495",
   "metadata": {},
   "outputs": [],
   "source": [
    "# Exercise 1 : Upcoming Holiday\n",
    "\n",
    "import datetime\n",
    "import holidays\n",
    "\n",
    "def next_mauritian_holiday():\n",
    "    today = datetime.date.today()\n",
    "    print(f'Today is the {today.strftime(\"%A, %B %d, %Y\")}')\n",
    "\n",
    "    mu_holidays = holidays.MU(years=today.year)\n",
    "    upcoming = None\n",
    "    for date, name in sorted(mu_holidays.items()):\n",
    "        if date > today:\n",
    "            upcoming = (date, name)\n",
    "            break\n",
    "\n",
    "    if upcoming:\n",
    "        days_left = (upcoming[0] - today).days\n",
    "        print(f'The next holiday is {upcoming[1]} on {upcoming[0].strftime(\"%A, %B %d, %Y\")}, which is in {days_left} days.')\n",
    "    else:\n",
    "        print('There are no more holidays this year.')\n",
    "\n",
    "next_mauritian_holiday()\n"
   ]
  },
  {
   "cell_type": "code",
   "execution_count": 5,
   "metadata": {},
   "outputs": [
    {
     "name": "stdout",
     "output_type": "stream",
     "text": [
      "Your age on Mercury is 3.95 years.\n",
      "Your age on Venus is 1.55 years.\n",
      "Your age on Mars is 0.51 years.\n",
      "Your age on Jupiter is 0.08 years.\n",
      "Your age on Saturn is 0.03 years.\n",
      "Your age on Uranus is 0.01 years.\n",
      "Your age on Neptune is 0.01 years.\n"
     ]
    }
   ],
   "source": [
    "# Exercise 2 : How Old Are You On Jupiter?\n",
    "\n",
    "def age_on_planets(age_seconds):\n",
    "    earth_year_sec = 31557600\n",
    "    orbital_periods = {\n",
    "        'Mercury':  0.2408467,\n",
    "        'Venus':  0.61519726,\n",
    "        'Mars': 1.8808158,\n",
    "        'Jupiter': 11.862615,\n",
    "        'Saturn':  29.447498,\n",
    "        'Uranus':  84.016846,\n",
    "        'Neptune':  164.79132\n",
    "    }\n",
    "\n",
    "    for planet, period in orbital_periods.items():\n",
    "        age_years = age_seconds / earth_year_sec / period\n",
    "        print(f'Your age on {planet} is {age_years:.2f} years.')\n",
    "\n",
    "age = int(input('Enter your age in seconds: '))\n",
    "age_on_planets(age)\n"
   ]
  },
  {
   "cell_type": "code",
   "execution_count": 6,
   "id": "be2fb618",
   "metadata": {},
   "outputs": [
    {
     "name": "stdout",
     "output_type": "stream",
     "text": [
      "532569\n"
     ]
    }
   ],
   "source": [
    "# Exercise 3 : Regular Expression #1\n",
    "\n",
    "import re\n",
    "\n",
    "def return_numbers(s):\n",
    "    numbers = re.findall(r'\\d', s)\n",
    "    return ''.join(numbers)\n",
    "\n",
    "print(return_numbers('k5k3q2g5z6x9bn'))"
   ]
  },
  {
   "cell_type": "code",
   "execution_count": 8,
   "id": "03a921c3",
   "metadata": {},
   "outputs": [
    {
     "name": "stdout",
     "output_type": "stream",
     "text": [
      "Valid name!\n"
     ]
    }
   ],
   "source": [
    "# Exercise 4 : Regular Expression #2\n",
    "\n",
    "import re\n",
    "\n",
    "username = input('Enter your full name: ')\n",
    "\n",
    "pattern = r'^[A-Z][a-zA-Z]* [A-Z][a-zA-Z]*$'\n",
    "\n",
    "if re.fullmatch(pattern, username):\n",
    "    print(\"Valid name!\")\n",
    "else:\n",
    "    print(\"Invalid name. Make sure you use only letters, one space, and capitalize the first letter of each name.\")\n"
   ]
  },
  {
   "cell_type": "code",
   "execution_count": 9,
   "id": "d31eec70",
   "metadata": {},
   "outputs": [
    {
     "name": "stdout",
     "output_type": "stream",
     "text": [
      "Your password is: 8EKoB^smLqg@TTvF2bDRLtgtSs!1VX\n",
      "Please keep your password in a safe place!\n",
      "All password tests passed!\n"
     ]
    }
   ],
   "source": [
    "# Exercise 5: Python Password Generator\n",
    "\n",
    "import string\n",
    "import random\n",
    "\n",
    "def generate_password(length):\n",
    "    if length < 6 or length > 30:\n",
    "        raise ValueError(\"Password length must be between 6 and 30.\")\n",
    "\n",
    "    # Ensure at least one of each required character type\n",
    "    password = [\n",
    "        random.choice(string.digits),\n",
    "        random.choice(string.ascii_lowercase),\n",
    "        random.choice(string.ascii_uppercase),\n",
    "        random.choice(\"!@#$%^&*_\")\n",
    "    ]\n",
    "    # Fill the rest with random choices from all allowed characters\n",
    "    all_chars = string.ascii_letters + string.digits + \"!@#$%^&*_\"\n",
    "    password += [random.choice(all_chars) for _ in range(length - 4)]\n",
    "    random.shuffle(password)\n",
    "    return ''.join(password)\n",
    "\n",
    "def test_password(password, length):\n",
    "    has_digit = any(c.isdigit() for c in password)\n",
    "    has_lower = any(c.islower() for c in password)\n",
    "    has_upper = any(c.isupper() for c in password)\n",
    "    has_special = any(c in \"!@#$%^&*_\" for c in password)\n",
    "    correct_length = len(password) == length\n",
    "    return all([has_digit, has_lower, has_upper, has_special, correct_length])\n",
    "\n",
    "# Ask user for password length\n",
    "while True:\n",
    "    try:\n",
    "        length = int(input(\"Enter password length (6-30): \"))\n",
    "        if 6 <= length <= 30:\n",
    "            break\n",
    "        else:\n",
    "            print(\"Please enter a number between 6 and 30.\")\n",
    "    except ValueError:\n",
    "        print(\"Please enter a valid number.\")\n",
    "\n",
    "password = generate_password(length)\n",
    "print(f\"Your password is: {password}\")\n",
    "print(\"Please keep your password in a safe place!\")\n",
    "\n",
    "# Test the password generator 100 times\n",
    "for _ in range(100):\n",
    "    test_len = random.randint(6, 30)\n",
    "    pwd = generate_password(test_len)\n",
    "    assert test_password(pwd, test_len), f\"Test failed for password: {pwd} with length {test_len}\"\n",
    "\n",
    "print(\"All password tests passed!\")"
   ]
  }
 ],
 "metadata": {
  "kernelspec": {
   "display_name": "Python 3",
   "language": "python",
   "name": "python3"
  },
  "language_info": {
   "codemirror_mode": {
    "name": "ipython",
    "version": 3
   },
   "file_extension": ".py",
   "mimetype": "text/x-python",
   "name": "python",
   "nbconvert_exporter": "python",
   "pygments_lexer": "ipython3",
   "version": "3.13.3"
  }
 },
 "nbformat": 4,
 "nbformat_minor": 5
}

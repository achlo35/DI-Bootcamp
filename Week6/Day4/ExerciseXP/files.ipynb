{
 "cells": [
  {
   "cell_type": "code",
   "execution_count": 10,
   "id": "85ebc0c9",
   "metadata": {},
   "outputs": [
    {
     "name": "stdout",
     "output_type": "stream",
     "text": [
      "Welcome to the Random Sentence Generator!\n",
      "This program generates a random sentence using words from a file.\n",
      "You can specify how many words you want in your sentence.\n"
     ]
    },
    {
     "name": "stdout",
     "output_type": "stream",
     "text": [
      "Please enter a number between 2 and 20.\n"
     ]
    }
   ],
   "source": [
    "# Exercise 1: Random Sentence Generator\n",
    "\n",
    "import random\n",
    "\n",
    "words_list = []\n",
    "\n",
    "def get_words_from_file(filename):\n",
    "    with open(filename, 'r') as file:\n",
    "        for line in file:\n",
    "            words = line.strip().split(',')\n",
    "            words_list.append(words)\n",
    "        return words_list\n",
    "    \n",
    "def get_random_sentence(length):\n",
    "    get_words_from_file('words.txt')\n",
    "    sentence = []\n",
    "    for i in range(length):\n",
    "        word_list = random.choice(words_list)\n",
    "        word = random.choice(word_list)\n",
    "        sentence.append(word)\n",
    "    return ' '.join(sentence)\n",
    "\n",
    "def main():\n",
    "    print(\"Welcome to the Random Sentence Generator!\")\n",
    "    print(\"This program generates a random sentence using words from a file.\")\n",
    "    print(\"You can specify how many words you want in your sentence.\")\n",
    "    desired_length = input(\"Enter the number of words in your sentence: \")\n",
    "    try:\n",
    "        length = int(desired_length)\n",
    "        if length < 2 or length > 20:\n",
    "            print(\"Please enter a number between 2 and 20.\")\n",
    "        else:\n",
    "            random_sentence = get_random_sentence(length)\n",
    "            print(f\"Your random sentence is: {random_sentence}\")\n",
    "    except Exception:\n",
    "        print(\"Please enter a valid integer.\")\n",
    "\n",
    "main()"
   ]
  },
  {
   "cell_type": "code",
   "execution_count": 1,
   "id": "ee2b8735",
   "metadata": {},
   "outputs": [
    {
     "name": "stdout",
     "output_type": "stream",
     "text": [
      "7000\n"
     ]
    }
   ],
   "source": [
    "# Exercise 2: Working with JSON\n",
    "\n",
    "import json\n",
    "\n",
    "sampleJson = '''{ \n",
    "   \"company\":{ \n",
    "      \"employee\":{ \n",
    "         \"name\":\"emma\",\n",
    "         \"payable\":{ \n",
    "            \"salary\":7000,\n",
    "            \"bonus\":800\n",
    "         }\n",
    "      }\n",
    "   }\n",
    "}'''\n",
    "\n",
    "data = json.loads(sampleJson)\n",
    "\n",
    "salary = data[\"company\"][\"employee\"][\"payable\"][\"salary\"]\n",
    "print(salary)\n",
    "\n",
    "data['company']['employee']['birth_date'] = \"1990-01-01\"\n",
    "\n",
    "\n",
    "with open('json_file.txt', 'w') as json_file:\n",
    "    json.dump(data, json_file, indent=4)\n"
   ]
  }
 ],
 "metadata": {
  "kernelspec": {
   "display_name": "Python 3",
   "language": "python",
   "name": "python3"
  },
  "language_info": {
   "codemirror_mode": {
    "name": "ipython",
    "version": 3
   },
   "file_extension": ".py",
   "mimetype": "text/x-python",
   "name": "python",
   "nbconvert_exporter": "python",
   "pygments_lexer": "ipython3",
   "version": "3.13.3"
  }
 },
 "nbformat": 4,
 "nbformat_minor": 5
}
